{
  "nbformat": 4,
  "nbformat_minor": 0,
  "metadata": {
    "kernelspec": {
      "display_name": "Python 3",
      "language": "python",
      "name": "python3"
    },
    "language_info": {
      "codemirror_mode": {
        "name": "ipython",
        "version": 3
      },
      "file_extension": ".py",
      "mimetype": "text/x-python",
      "name": "python",
      "nbconvert_exporter": "python",
      "pygments_lexer": "ipython3",
      "version": "3.8.3"
    },
    "colab": {
      "name": "Copy of Denoising autoencoders Mayank.ipynb",
      "provenance": [],
      "collapsed_sections": [],
      "include_colab_link": true
    },
    "accelerator": "GPU"
  },
  "cells": [
    {
      "cell_type": "markdown",
      "metadata": {
        "id": "view-in-github",
        "colab_type": "text"
      },
      "source": [
        "<a href=\"https://colab.research.google.com/github/Mayank58786/Machine-Learning/blob/master/Copy_of_Denoising_autoencoders_Mayank.ipynb\" target=\"_parent\"><img src=\"https://colab.research.google.com/assets/colab-badge.svg\" alt=\"Open In Colab\"/></a>"
      ]
    },
    {
      "cell_type": "markdown",
      "metadata": {
        "id": "uOEboqdr_waR",
        "colab_type": "text"
      },
      "source": [
        "# Importing Libaries"
      ]
    },
    {
      "cell_type": "code",
      "metadata": {
        "id": "wOftMezN2qXG",
        "colab_type": "code",
        "colab": {}
      },
      "source": [
        "import shutil\n",
        "import statistics as st\n",
        " \n",
        "import numpy as np\n",
        "import matplotlib.pyplot as plt\n",
        " \n",
        "import tensorflow as tf\n",
        "from tensorflow.keras.layers import Conv2D, Conv2DTranspose, Flatten, Dense, Activation, Input, Reshape \n",
        "import tensorflow.keras.datasets as datasets\n",
        "from tensorflow.keras.models import Model"
      ],
      "execution_count": null,
      "outputs": []
    },
    {
      "cell_type": "markdown",
      "metadata": {
        "id": "lUlhg3fA_22p",
        "colab_type": "text"
      },
      "source": [
        "# Loading the Dataset"
      ]
    },
    {
      "cell_type": "code",
      "metadata": {
        "id": "Na9O1RRh2qXQ",
        "colab_type": "code",
        "colab": {
          "base_uri": "https://localhost:8080/",
          "height": 71
        },
        "outputId": "efa00558-afec-4965-dfa7-a2230ce7d1e7"
      },
      "source": [
        "(x_train, _), (x_test, _) = datasets.mnist.load_data()"
      ],
      "execution_count": null,
      "outputs": [
        {
          "output_type": "stream",
          "text": [
            "Downloading data from https://storage.googleapis.com/tensorflow/tf-keras-datasets/mnist.npz\n",
            "11493376/11490434 [==============================] - 0s 0us/step\n"
          ],
          "name": "stdout"
        }
      ]
    },
    {
      "cell_type": "code",
      "metadata": {
        "id": "kvBhA6EvG8D_",
        "colab_type": "code",
        "colab": {
          "base_uri": "https://localhost:8080/",
          "height": 34
        },
        "outputId": "1507ebfb-0ff0-41be-b347-91e9f12ca8e8"
      },
      "source": [
        "print(x_train.shape)"
      ],
      "execution_count": null,
      "outputs": [
        {
          "output_type": "stream",
          "text": [
            "(60000, 28, 28)\n"
          ],
          "name": "stdout"
        }
      ]
    },
    {
      "cell_type": "code",
      "metadata": {
        "id": "25Yvk0Ty2qXZ",
        "colab_type": "code",
        "colab": {}
      },
      "source": [
        "image_size = x_train.shape[1]\n",
        "x_train = np.reshape(x_train, [-1, image_size, image_size, 1])\n",
        "x_test = np.reshape(x_test, [-1, image_size, image_size, 1])\n",
        "x_train = x_train.astype('float32') / 255\n",
        "x_test = x_test.astype('float32') / 255"
      ],
      "execution_count": null,
      "outputs": []
    },
    {
      "cell_type": "markdown",
      "metadata": {
        "id": "9EW-t_78_6ZV",
        "colab_type": "text"
      },
      "source": [
        "# Visualizing some images from the dataset"
      ]
    },
    {
      "cell_type": "code",
      "metadata": {
        "id": "RnPkfdk14OgD",
        "colab_type": "code",
        "colab": {}
      },
      "source": [
        "n = 10\n",
        "plt.figure(figsize=(20, 4))\n",
        " \n",
        "for i in range(n):\n",
        "    # display original\n",
        " \n",
        "    ax = plt.subplot(2, n, i + 1)\n",
        "    plt.imshow(x_train[i].reshape(28, 28))\n",
        "    plt.gray()\n",
        " \n",
        "    ax.get_xaxis().set_visible(False)\n",
        "    ax.get_yaxis().set_visible(False)\n",
        " \n",
        "    ax = plt.subplot(2, n, i + 1 + n)\n",
        "    plt.imshow(x_test[i].reshape(28, 28))\n",
        "    plt.gray()\n",
        " \n",
        "    ax.get_xaxis().set_visible(False)\n",
        "    ax.get_yaxis().set_visible(False)\n",
        " \n",
        "plt.show()"
      ],
      "execution_count": null,
      "outputs": []
    },
    {
      "cell_type": "markdown",
      "metadata": {
        "id": "yG8T34k4AAk0",
        "colab_type": "text"
      },
      "source": [
        "# Defining parameters such as Encoding length"
      ]
    },
    {
      "cell_type": "code",
      "metadata": {
        "id": "kuKJL9O22qXl",
        "colab_type": "code",
        "colab": {}
      },
      "source": [
        "input_shape = (image_size, image_size, 1)\n",
        "batch_size = 128\n",
        "kernel_size = 3\n",
        "latent_dim = 32\n",
        " \n",
        "layer_filters = [32, 64]"
      ],
      "execution_count": null,
      "outputs": []
    },
    {
      "cell_type": "markdown",
      "metadata": {
        "id": "dEdNalX3__xN",
        "colab_type": "text"
      },
      "source": [
        "# The Encoder"
      ]
    },
    {
      "cell_type": "code",
      "metadata": {
        "id": "YPHoFShs2qXs",
        "colab_type": "code",
        "colab": {
          "base_uri": "https://localhost:8080/",
          "height": 323
        },
        "outputId": "c8ea2bc4-1f8e-48fa-f950-cb6f3da81d88"
      },
      "source": [
        "inputs = Input(shape=input_shape, name='encoder_input')\n",
        "x = inputs\n",
        " \n",
        "for filters in layer_filters:\n",
        "    x = Conv2D(filters=filters,\n",
        "               kernel_size=kernel_size,\n",
        "               strides=2,\n",
        "               activation='relu',\n",
        "               padding='same')(x)\n",
        " \n",
        "shape = x.shape\n",
        "x = Flatten()(x)\n",
        " \n",
        "latent = Dense(latent_dim, name='latent_vector')(x)\n",
        " \n",
        "encoder = Model(inputs, latent, name='encoder')\n",
        "encoder.summary()"
      ],
      "execution_count": null,
      "outputs": [
        {
          "output_type": "stream",
          "text": [
            "Model: \"encoder\"\n",
            "_________________________________________________________________\n",
            "Layer (type)                 Output Shape              Param #   \n",
            "=================================================================\n",
            "encoder_input (InputLayer)   [(None, 28, 28, 1)]       0         \n",
            "_________________________________________________________________\n",
            "conv2d (Conv2D)              (None, 14, 14, 32)        320       \n",
            "_________________________________________________________________\n",
            "conv2d_1 (Conv2D)            (None, 7, 7, 64)          18496     \n",
            "_________________________________________________________________\n",
            "flatten (Flatten)            (None, 3136)              0         \n",
            "_________________________________________________________________\n",
            "latent_vector (Dense)        (None, 32)                100384    \n",
            "=================================================================\n",
            "Total params: 119,200\n",
            "Trainable params: 119,200\n",
            "Non-trainable params: 0\n",
            "_________________________________________________________________\n"
          ],
          "name": "stdout"
        }
      ]
    },
    {
      "cell_type": "markdown",
      "metadata": {
        "id": "X-RTHpg1AMWk",
        "colab_type": "text"
      },
      "source": [
        "# The Decoder"
      ]
    },
    {
      "cell_type": "code",
      "metadata": {
        "id": "XFvaGBlK2qXy",
        "colab_type": "code",
        "colab": {
          "base_uri": "https://localhost:8080/",
          "height": 391
        },
        "outputId": "5bdbb41f-ea10-4d20-ffb8-b62a364a0cc8"
      },
      "source": [
        "latent_inputs = Input(shape=(latent_dim,), name='decoder_input')\n",
        "x = Dense(shape[1] * shape[2] * shape[3])(latent_inputs)\n",
        "x = Reshape((shape[1], shape[2], shape[3]))(x)\n",
        "\n",
        "for filters in layer_filters[::-1]:\n",
        "    x = Conv2DTranspose(filters=filters,\n",
        "                        kernel_size=kernel_size,\n",
        "                        strides=2,\n",
        "                        activation='relu',\n",
        "                        padding='same')(x)\n",
        "\n",
        "x = Conv2DTranspose(filters=1,\n",
        "                    kernel_size=kernel_size,\n",
        "                    padding='same')(x)\n",
        "\n",
        "outputs = Activation('sigmoid', name='decoder_output')(x)\n",
        "\n",
        "decoder = Model(latent_inputs, outputs, name='decoder')\n",
        "decoder.summary()"
      ],
      "execution_count": null,
      "outputs": [
        {
          "output_type": "stream",
          "text": [
            "Model: \"decoder\"\n",
            "_________________________________________________________________\n",
            "Layer (type)                 Output Shape              Param #   \n",
            "=================================================================\n",
            "decoder_input (InputLayer)   [(None, 32)]              0         \n",
            "_________________________________________________________________\n",
            "dense (Dense)                (None, 3136)              103488    \n",
            "_________________________________________________________________\n",
            "reshape (Reshape)            (None, 7, 7, 64)          0         \n",
            "_________________________________________________________________\n",
            "conv2d_transpose (Conv2DTran (None, 14, 14, 64)        36928     \n",
            "_________________________________________________________________\n",
            "conv2d_transpose_1 (Conv2DTr (None, 28, 28, 32)        18464     \n",
            "_________________________________________________________________\n",
            "conv2d_transpose_2 (Conv2DTr (None, 28, 28, 1)         289       \n",
            "_________________________________________________________________\n",
            "decoder_output (Activation)  (None, 28, 28, 1)         0         \n",
            "=================================================================\n",
            "Total params: 159,169\n",
            "Trainable params: 159,169\n",
            "Non-trainable params: 0\n",
            "_________________________________________________________________\n"
          ],
          "name": "stdout"
        }
      ]
    },
    {
      "cell_type": "markdown",
      "metadata": {
        "id": "TPEy7exmAQoH",
        "colab_type": "text"
      },
      "source": [
        "# Defining the end to end autoencoder"
      ]
    },
    {
      "cell_type": "code",
      "metadata": {
        "id": "uz2ZYmtk2qX3",
        "colab_type": "code",
        "colab": {
          "base_uri": "https://localhost:8080/",
          "height": 255
        },
        "outputId": "356517b9-8f8d-4e14-ab61-42b2d0fd8446"
      },
      "source": [
        "autoencoder = Model(inputs, decoder(encoder(inputs)), name='autoencoder')\n",
        "autoencoder.summary()"
      ],
      "execution_count": null,
      "outputs": [
        {
          "output_type": "stream",
          "text": [
            "Model: \"autoencoder\"\n",
            "_________________________________________________________________\n",
            "Layer (type)                 Output Shape              Param #   \n",
            "=================================================================\n",
            "encoder_input (InputLayer)   [(None, 28, 28, 1)]       0         \n",
            "_________________________________________________________________\n",
            "encoder (Model)              (None, 32)                119200    \n",
            "_________________________________________________________________\n",
            "decoder (Model)              (None, 28, 28, 1)         159169    \n",
            "=================================================================\n",
            "Total params: 278,369\n",
            "Trainable params: 278,369\n",
            "Non-trainable params: 0\n",
            "_________________________________________________________________\n"
          ],
          "name": "stdout"
        }
      ]
    },
    {
      "cell_type": "code",
      "metadata": {
        "id": "xAxec1us2qX8",
        "colab_type": "code",
        "colab": {}
      },
      "source": [
        "autoencoder.compile(loss='bce', optimizer='adam')"
      ],
      "execution_count": null,
      "outputs": []
    },
    {
      "cell_type": "code",
      "metadata": {
        "id": "4QNUMCOb2qYB",
        "colab_type": "code",
        "colab": {
          "base_uri": "https://localhost:8080/",
          "height": 51
        },
        "outputId": "a1276668-bbd5-403c-a347-1e4255dc0ef8"
      },
      "source": [
        "print(x_train.shape)\n",
        "print(x_test.shape)"
      ],
      "execution_count": null,
      "outputs": [
        {
          "output_type": "stream",
          "text": [
            "(60000, 28, 28, 1)\n",
            "(10000, 28, 28, 1)\n"
          ],
          "name": "stdout"
        }
      ]
    },
    {
      "cell_type": "markdown",
      "metadata": {
        "id": "fRzCx3M3AhZG",
        "colab_type": "text"
      },
      "source": [
        "# Training the autoencoder"
      ]
    },
    {
      "cell_type": "code",
      "metadata": {
        "scrolled": true,
        "id": "HUAUjXWN2qYH",
        "colab_type": "code",
        "colab": {
          "base_uri": "https://localhost:8080/",
          "height": 1000
        },
        "outputId": "9289a915-1f6e-42a1-b198-477ae8d554bc"
      },
      "source": [
        "autoencoder.fit(x_train, x_train, epochs=30, batch_size=128, \n",
        "                shuffle=True, validation_data=(x_test, x_test), \n",
        "                callbacks=[tf.keras.callbacks.TensorBoard(log_dir='./tmp/autoencoder')])"
      ],
      "execution_count": null,
      "outputs": [
        {
          "output_type": "stream",
          "text": [
            "Epoch 1/30\n",
            "469/469 [==============================] - 4s 9ms/step - loss: 0.1633 - val_loss: 0.0865\n",
            "Epoch 2/30\n",
            "469/469 [==============================] - 4s 9ms/step - loss: 0.0819 - val_loss: 0.0779\n",
            "Epoch 3/30\n",
            "469/469 [==============================] - 4s 9ms/step - loss: 0.0773 - val_loss: 0.0756\n",
            "Epoch 4/30\n",
            "469/469 [==============================] - 4s 9ms/step - loss: 0.0753 - val_loss: 0.0743\n",
            "Epoch 5/30\n",
            "469/469 [==============================] - 4s 9ms/step - loss: 0.0741 - val_loss: 0.0734\n",
            "Epoch 6/30\n",
            "469/469 [==============================] - 4s 9ms/step - loss: 0.0733 - val_loss: 0.0727\n",
            "Epoch 7/30\n",
            "469/469 [==============================] - 4s 9ms/step - loss: 0.0727 - val_loss: 0.0721\n",
            "Epoch 8/30\n",
            "469/469 [==============================] - 4s 9ms/step - loss: 0.0722 - val_loss: 0.0717\n",
            "Epoch 9/30\n",
            "469/469 [==============================] - 4s 9ms/step - loss: 0.0718 - val_loss: 0.0716\n",
            "Epoch 10/30\n",
            "469/469 [==============================] - 4s 9ms/step - loss: 0.0715 - val_loss: 0.0712\n",
            "Epoch 11/30\n",
            "469/469 [==============================] - 4s 9ms/step - loss: 0.0712 - val_loss: 0.0710\n",
            "Epoch 12/30\n",
            "469/469 [==============================] - 4s 9ms/step - loss: 0.0710 - val_loss: 0.0707\n",
            "Epoch 13/30\n",
            "469/469 [==============================] - 4s 9ms/step - loss: 0.0708 - val_loss: 0.0706\n",
            "Epoch 14/30\n",
            "469/469 [==============================] - 4s 9ms/step - loss: 0.0706 - val_loss: 0.0705\n",
            "Epoch 15/30\n",
            "469/469 [==============================] - 4s 9ms/step - loss: 0.0704 - val_loss: 0.0705\n",
            "Epoch 16/30\n",
            "469/469 [==============================] - 4s 9ms/step - loss: 0.0703 - val_loss: 0.0702\n",
            "Epoch 17/30\n",
            "469/469 [==============================] - 4s 9ms/step - loss: 0.0701 - val_loss: 0.0702\n",
            "Epoch 18/30\n",
            "469/469 [==============================] - 4s 9ms/step - loss: 0.0700 - val_loss: 0.0701\n",
            "Epoch 19/30\n",
            "469/469 [==============================] - 4s 9ms/step - loss: 0.0699 - val_loss: 0.0699\n",
            "Epoch 20/30\n",
            "469/469 [==============================] - 4s 9ms/step - loss: 0.0698 - val_loss: 0.0701\n",
            "Epoch 21/30\n",
            "469/469 [==============================] - 4s 9ms/step - loss: 0.0697 - val_loss: 0.0697\n",
            "Epoch 22/30\n",
            "469/469 [==============================] - 4s 9ms/step - loss: 0.0696 - val_loss: 0.0697\n",
            "Epoch 23/30\n",
            "469/469 [==============================] - 4s 9ms/step - loss: 0.0695 - val_loss: 0.0697\n",
            "Epoch 24/30\n",
            "469/469 [==============================] - 4s 9ms/step - loss: 0.0695 - val_loss: 0.0696\n",
            "Epoch 25/30\n",
            "469/469 [==============================] - 4s 9ms/step - loss: 0.0694 - val_loss: 0.0695\n",
            "Epoch 26/30\n",
            "469/469 [==============================] - 4s 9ms/step - loss: 0.0693 - val_loss: 0.0695\n",
            "Epoch 27/30\n",
            "469/469 [==============================] - 4s 9ms/step - loss: 0.0693 - val_loss: 0.0695\n",
            "Epoch 28/30\n",
            "469/469 [==============================] - 4s 9ms/step - loss: 0.0692 - val_loss: 0.0694\n",
            "Epoch 29/30\n",
            "469/469 [==============================] - 4s 9ms/step - loss: 0.0691 - val_loss: 0.0695\n",
            "Epoch 30/30\n",
            "469/469 [==============================] - 4s 9ms/step - loss: 0.0691 - val_loss: 0.0694\n"
          ],
          "name": "stdout"
        },
        {
          "output_type": "execute_result",
          "data": {
            "text/plain": [
              "<tensorflow.python.keras.callbacks.History at 0x7f2d5008c9e8>"
            ]
          },
          "metadata": {
            "tags": []
          },
          "execution_count": 13
        }
      ]
    },
    {
      "cell_type": "markdown",
      "metadata": {
        "id": "4D3KwVOtAmVj",
        "colab_type": "text"
      },
      "source": [
        "#Looking at the performance\n",
        "The First Row consists of input images and the seond row consists of decoded images . \n",
        "\n",
        "Ideally they should be the same"
      ]
    },
    {
      "cell_type": "code",
      "metadata": {
        "id": "TzkqM6_22qYN",
        "colab_type": "code",
        "colab": {
          "base_uri": "https://localhost:8080/",
          "height": 248
        },
        "outputId": "801f43f2-bc92-42a2-e5f1-aa712835bc8b"
      },
      "source": [
        "decoded_imgs = autoencoder.predict(x_test)\n",
        "n = 10\n",
        "plt.figure(figsize=(20, 4))\n",
        "for i in range(n):\n",
        "    # display original\n",
        "    ax = plt.subplot(2, n, i + 1)\n",
        "    plt.imshow(x_test[i].reshape(28, 28))\n",
        "    plt.gray()\n",
        "    ax.get_xaxis().set_visible(False)\n",
        "    ax.get_yaxis().set_visible(False)\n",
        "\n",
        "    # display reconstruction\n",
        "    ax = plt.subplot(2, n, i + 1 + n)\n",
        "    plt.imshow(decoded_imgs[i].reshape(28, 28))\n",
        "    plt.gray()\n",
        "    ax.get_xaxis().set_visible(False)\n",
        "    ax.get_yaxis().set_visible(False)\n",
        "plt.show()\n"
      ],
      "execution_count": null,
      "outputs": [
        {
          "output_type": "display_data",
          "data": {
            "image/png": "[encoded data removed]",
            "text/plain": [
              "<Figure size 1440x288 with 20 Axes>"
            ]
          },
          "metadata": {
            "tags": [],
            "needs_background": "light"
          }
        }
      ]
    },
    {
      "cell_type": "markdown",
      "metadata": {
        "id": "nj8mm_kEAx-5",
        "colab_type": "text"
      },
      "source": [
        "# Lets try to make the model resistant to noise by adding AWGN ( Addititive white Gaussian Noise ) to the inputs"
      ]
    },
    {
      "cell_type": "code",
      "metadata": {
        "id": "_7fkqdA-2qYS",
        "colab_type": "code",
        "colab": {}
      },
      "source": [
        "(x_train, _), (x_test, _) = datasets.mnist.load_data()\n",
        "\n",
        "x_train = x_train.astype('float32') / 255.\n",
        "x_test = x_test.astype('float32') / 255.\n",
        "x_train = np.reshape(x_train, (len(x_train), 28, 28, 1))\n",
        "x_test = np.reshape(x_test, (len(x_test), 28, 28, 1))\n",
        "\n",
        "noise_factor = 0.5\n",
        "x_train_noisy = x_train + noise_factor + np.random.normal(loc=0.0, scale=1.0, size=x_train.shape)\n",
        "x_test_noisy = x_test + noise_factor + np.random.normal(loc=0.0, scale=1.0, size=x_test.shape)\n",
        "\n",
        "x_train_noisy = np.clip(x_train_noisy, 0., 1.)\n",
        "x_test_noisy = np.clip(x_test_noisy, 0., 1.)"
      ],
      "execution_count": null,
      "outputs": []
    },
    {
      "cell_type": "markdown",
      "metadata": {
        "id": "Dy6akGV5A9iF",
        "colab_type": "text"
      },
      "source": [
        "# The noisy images\n",
        "Clearly these are fairly noisy and it is very difficult to identify the images"
      ]
    },
    {
      "cell_type": "code",
      "metadata": {
        "id": "kjKpLq012qYX",
        "colab_type": "code",
        "colab": {
          "base_uri": "https://localhost:8080/",
          "height": 129
        },
        "outputId": "c2a84467-bb00-4495-ebb8-c375a591ae7d"
      },
      "source": [
        "n = 10\n",
        "plt.figure(figsize=(20, 2))\n",
        "for i in range(n):\n",
        "    ax = plt.subplot(1, n, i + 1)\n",
        "    plt.imshow(x_test_noisy[i].reshape(28, 28))\n",
        "    plt.gray()\n",
        "    ax.get_xaxis().set_visible(False)\n",
        "    ax.get_yaxis().set_visible(False)\n",
        "plt.show()"
      ],
      "execution_count": null,
      "outputs": [
        {
          "output_type": "display_data",
          "data": {
            "image/png": "[encoded data removed]",
            "text/plain": [
              "<Figure size 1440x144 with 10 Axes>"
            ]
          },
          "metadata": {
            "tags": [],
            "needs_background": "light"
          }
        }
      ]
    },
    {
      "cell_type": "markdown",
      "metadata": {
        "id": "BO0ZxAAlBHRn",
        "colab_type": "text"
      },
      "source": [
        "# Defining the same autoencoder structure to be trained to filter out such noise"
      ]
    },
    {
      "cell_type": "code",
      "metadata": {
        "id": "QFJZ7LUi2qYb",
        "colab_type": "code",
        "colab": {
          "base_uri": "https://localhost:8080/",
          "height": 935
        },
        "outputId": "271fdc87-a12a-4c85-a7c9-2c5c170e97b0"
      },
      "source": [
        "inputs = Input(shape=input_shape, name='encoder_input')\n",
        "x = inputs\n",
        "for filters in layer_filters:\n",
        "    x = Conv2D(filters=filters,\n",
        "               kernel_size=kernel_size,\n",
        "               strides=2,\n",
        "               activation='relu',\n",
        "               padding='same')(x)\n",
        "shape = x.shape\n",
        "x = Flatten()(x)\n",
        "latent = Dense(latent_dim, name='latent_vector')(x)\n",
        "\n",
        "encoder = Model(inputs, latent, name='encoder')\n",
        "encoder.summary()\n",
        "latent_inputs = Input(shape=(latent_dim,), name='decoder_input')\n",
        "x = Dense(shape[1] * shape[2] * shape[3])(latent_inputs)\n",
        "x = Reshape((shape[1], shape[2], shape[3]))(x)\n",
        "\n",
        "for filters in layer_filters[::-1]:\n",
        "    x = Conv2DTranspose(filters=filters,\n",
        "                        kernel_size=kernel_size,\n",
        "                        strides=2,\n",
        "                        activation='relu',\n",
        "                        padding='same')(x)\n",
        "\n",
        "x = Conv2DTranspose(filters=1,\n",
        "                    kernel_size=kernel_size,\n",
        "                    padding='same')(x)\n",
        "\n",
        "outputs = Activation('sigmoid', name='decoder_output')(x)\n",
        "\n",
        "decoder = Model(latent_inputs, outputs, name='decoder')\n",
        "decoder.summary()\n",
        "autoencoder = Model(inputs, decoder(encoder(inputs)), name='autoencoder')\n",
        "autoencoder.summary()"
      ],
      "execution_count": null,
      "outputs": [
        {
          "output_type": "stream",
          "text": [
            "Model: \"encoder\"\n",
            "_________________________________________________________________\n",
            "Layer (type)                 Output Shape              Param #   \n",
            "=================================================================\n",
            "encoder_input (InputLayer)   [(None, 28, 28, 1)]       0         \n",
            "_________________________________________________________________\n",
            "conv2d_2 (Conv2D)            (None, 14, 14, 32)        320       \n",
            "_________________________________________________________________\n",
            "conv2d_3 (Conv2D)            (None, 7, 7, 64)          18496     \n",
            "_________________________________________________________________\n",
            "flatten_1 (Flatten)          (None, 3136)              0         \n",
            "_________________________________________________________________\n",
            "latent_vector (Dense)        (None, 32)                100384    \n",
            "=================================================================\n",
            "Total params: 119,200\n",
            "Trainable params: 119,200\n",
            "Non-trainable params: 0\n",
            "_________________________________________________________________\n",
            "Model: \"decoder\"\n",
            "_________________________________________________________________\n",
            "Layer (type)                 Output Shape              Param #   \n",
            "=================================================================\n",
            "decoder_input (InputLayer)   [(None, 32)]              0         \n",
            "_________________________________________________________________\n",
            "dense_1 (Dense)              (None, 3136)              103488    \n",
            "_________________________________________________________________\n",
            "reshape_1 (Reshape)          (None, 7, 7, 64)          0         \n",
            "_________________________________________________________________\n",
            "conv2d_transpose_3 (Conv2DTr (None, 14, 14, 64)        36928     \n",
            "_________________________________________________________________\n",
            "conv2d_transpose_4 (Conv2DTr (None, 28, 28, 32)        18464     \n",
            "_________________________________________________________________\n",
            "conv2d_transpose_5 (Conv2DTr (None, 28, 28, 1)         289       \n",
            "_________________________________________________________________\n",
            "decoder_output (Activation)  (None, 28, 28, 1)         0         \n",
            "=================================================================\n",
            "Total params: 159,169\n",
            "Trainable params: 159,169\n",
            "Non-trainable params: 0\n",
            "_________________________________________________________________\n",
            "Model: \"autoencoder\"\n",
            "_________________________________________________________________\n",
            "Layer (type)                 Output Shape              Param #   \n",
            "=================================================================\n",
            "encoder_input (InputLayer)   [(None, 28, 28, 1)]       0         \n",
            "_________________________________________________________________\n",
            "encoder (Model)              (None, 32)                119200    \n",
            "_________________________________________________________________\n",
            "decoder (Model)              (None, 28, 28, 1)         159169    \n",
            "=================================================================\n",
            "Total params: 278,369\n",
            "Trainable params: 278,369\n",
            "Non-trainable params: 0\n",
            "_________________________________________________________________\n"
          ],
          "name": "stdout"
        }
      ]
    },
    {
      "cell_type": "code",
      "metadata": {
        "id": "hI_Vy2dE2qYi",
        "colab_type": "code",
        "colab": {
          "base_uri": "https://localhost:8080/",
          "height": 1000
        },
        "outputId": "c0dcc7a4-05a5-491f-a1cf-490b48cb2f48"
      },
      "source": [
        "# let's train for 100 epochs\n",
        "autoencoder.compile(optimizer='adam', loss='bce')\n",
        "\n",
        "autoencoder.fit(x_train_noisy, x_train, epochs=100, batch_size=64, shuffle=True, validation_data=(x_test_noisy, x_test))"
      ],
      "execution_count": null,
      "outputs": [
        {
          "output_type": "stream",
          "text": [
            "Epoch 1/100\n",
            "938/938 [==============================] - 5s 6ms/step - loss: 0.2235 - val_loss: 0.1721\n",
            "Epoch 2/100\n",
            "938/938 [==============================] - 5s 6ms/step - loss: 0.1646 - val_loss: 0.1578\n",
            "Epoch 3/100\n",
            "938/938 [==============================] - 5s 6ms/step - loss: 0.1567 - val_loss: 0.1545\n",
            "Epoch 4/100\n",
            "938/938 [==============================] - 5s 6ms/step - loss: 0.1532 - val_loss: 0.1534\n",
            "Epoch 5/100\n",
            "938/938 [==============================] - 5s 6ms/step - loss: 0.1509 - val_loss: 0.1521\n",
            "Epoch 6/100\n",
            "938/938 [==============================] - 5s 6ms/step - loss: 0.1491 - val_loss: 0.1521\n",
            "Epoch 7/100\n",
            "938/938 [==============================] - 5s 5ms/step - loss: 0.1475 - val_loss: 0.1519\n",
            "Epoch 8/100\n",
            "938/938 [==============================] - 5s 6ms/step - loss: 0.1463 - val_loss: 0.1522\n",
            "Epoch 9/100\n",
            "938/938 [==============================] - 5s 5ms/step - loss: 0.1453 - val_loss: 0.1524\n",
            "Epoch 10/100\n",
            "938/938 [==============================] - 5s 5ms/step - loss: 0.1442 - val_loss: 0.1525\n",
            "Epoch 11/100\n",
            "938/938 [==============================] - 5s 5ms/step - loss: 0.1433 - val_loss: 0.1528\n",
            "Epoch 12/100\n",
            "938/938 [==============================] - 5s 5ms/step - loss: 0.1425 - val_loss: 0.1528\n",
            "Epoch 13/100\n",
            "938/938 [==============================] - 5s 5ms/step - loss: 0.1418 - val_loss: 0.1545\n",
            "Epoch 14/100\n",
            "938/938 [==============================] - 5s 6ms/step - loss: 0.1412 - val_loss: 0.1535\n",
            "Epoch 15/100\n",
            "938/938 [==============================] - 5s 6ms/step - loss: 0.1406 - val_loss: 0.1533\n",
            "Epoch 16/100\n",
            "938/938 [==============================] - 5s 6ms/step - loss: 0.1399 - val_loss: 0.1539\n",
            "Epoch 17/100\n",
            "938/938 [==============================] - 5s 5ms/step - loss: 0.1395 - val_loss: 0.1547\n",
            "Epoch 18/100\n",
            "938/938 [==============================] - 5s 5ms/step - loss: 0.1390 - val_loss: 0.1552\n",
            "Epoch 19/100\n",
            "938/938 [==============================] - 5s 6ms/step - loss: 0.1385 - val_loss: 0.1544\n",
            "Epoch 20/100\n",
            "938/938 [==============================] - 5s 6ms/step - loss: 0.1381 - val_loss: 0.1552\n",
            "Epoch 21/100\n",
            "938/938 [==============================] - 5s 5ms/step - loss: 0.1378 - val_loss: 0.1550\n",
            "Epoch 22/100\n",
            "938/938 [==============================] - 5s 6ms/step - loss: 0.1374 - val_loss: 0.1556\n",
            "Epoch 23/100\n",
            "938/938 [==============================] - 5s 6ms/step - loss: 0.1371 - val_loss: 0.1559\n",
            "Epoch 24/100\n",
            "938/938 [==============================] - 5s 5ms/step - loss: 0.1367 - val_loss: 0.1563\n",
            "Epoch 25/100\n",
            "938/938 [==============================] - 5s 5ms/step - loss: 0.1364 - val_loss: 0.1570\n",
            "Epoch 26/100\n",
            "938/938 [==============================] - 5s 5ms/step - loss: 0.1361 - val_loss: 0.1577\n",
            "Epoch 27/100\n",
            "938/938 [==============================] - 5s 5ms/step - loss: 0.1358 - val_loss: 0.1571\n",
            "Epoch 28/100\n",
            "938/938 [==============================] - 5s 6ms/step - loss: 0.1356 - val_loss: 0.1573\n",
            "Epoch 29/100\n",
            "938/938 [==============================] - 5s 5ms/step - loss: 0.1353 - val_loss: 0.1577\n",
            "Epoch 30/100\n",
            "938/938 [==============================] - 5s 5ms/step - loss: 0.1351 - val_loss: 0.1586\n",
            "Epoch 31/100\n",
            "938/938 [==============================] - 5s 6ms/step - loss: 0.1349 - val_loss: 0.1584\n",
            "Epoch 32/100\n",
            "938/938 [==============================] - 5s 5ms/step - loss: 0.1346 - val_loss: 0.1582\n",
            "Epoch 33/100\n",
            "938/938 [==============================] - 5s 5ms/step - loss: 0.1344 - val_loss: 0.1586\n",
            "Epoch 34/100\n",
            "938/938 [==============================] - 5s 5ms/step - loss: 0.1343 - val_loss: 0.1613\n",
            "Epoch 35/100\n",
            "938/938 [==============================] - 5s 6ms/step - loss: 0.1341 - val_loss: 0.1593\n",
            "Epoch 36/100\n",
            "938/938 [==============================] - 5s 6ms/step - loss: 0.1338 - val_loss: 0.1590\n",
            "Epoch 37/100\n",
            "938/938 [==============================] - 5s 6ms/step - loss: 0.1336 - val_loss: 0.1592\n",
            "Epoch 38/100\n",
            "938/938 [==============================] - 5s 6ms/step - loss: 0.1335 - val_loss: 0.1603\n",
            "Epoch 39/100\n",
            "938/938 [==============================] - 5s 6ms/step - loss: 0.1333 - val_loss: 0.1589\n",
            "Epoch 40/100\n",
            "938/938 [==============================] - 5s 5ms/step - loss: 0.1332 - val_loss: 0.1609\n",
            "Epoch 41/100\n",
            "938/938 [==============================] - 5s 6ms/step - loss: 0.1330 - val_loss: 0.1598\n",
            "Epoch 42/100\n",
            "938/938 [==============================] - 5s 5ms/step - loss: 0.1329 - val_loss: 0.1610\n",
            "Epoch 43/100\n",
            "938/938 [==============================] - 5s 6ms/step - loss: 0.1327 - val_loss: 0.1614\n",
            "Epoch 44/100\n",
            "938/938 [==============================] - 5s 5ms/step - loss: 0.1326 - val_loss: 0.1623\n",
            "Epoch 45/100\n",
            "938/938 [==============================] - 5s 6ms/step - loss: 0.1324 - val_loss: 0.1632\n",
            "Epoch 46/100\n",
            "938/938 [==============================] - 5s 6ms/step - loss: 0.1323 - val_loss: 0.1619\n",
            "Epoch 47/100\n",
            "938/938 [==============================] - 5s 6ms/step - loss: 0.1322 - val_loss: 0.1611\n",
            "Epoch 48/100\n",
            "938/938 [==============================] - 5s 6ms/step - loss: 0.1320 - val_loss: 0.1616\n",
            "Epoch 49/100\n",
            "938/938 [==============================] - 5s 6ms/step - loss: 0.1320 - val_loss: 0.1617\n",
            "Epoch 50/100\n",
            "938/938 [==============================] - 5s 6ms/step - loss: 0.1317 - val_loss: 0.1611\n",
            "Epoch 51/100\n",
            "938/938 [==============================] - 5s 6ms/step - loss: 0.1317 - val_loss: 0.1610\n",
            "Epoch 52/100\n",
            "938/938 [==============================] - 5s 6ms/step - loss: 0.1316 - val_loss: 0.1615\n",
            "Epoch 53/100\n",
            "938/938 [==============================] - 5s 5ms/step - loss: 0.1315 - val_loss: 0.1618\n",
            "Epoch 54/100\n",
            "938/938 [==============================] - 5s 6ms/step - loss: 0.1313 - val_loss: 0.1621\n",
            "Epoch 55/100\n",
            "938/938 [==============================] - 5s 5ms/step - loss: 0.1313 - val_loss: 0.1633\n",
            "Epoch 56/100\n",
            "938/938 [==============================] - 5s 5ms/step - loss: 0.1312 - val_loss: 0.1627\n",
            "Epoch 57/100\n",
            "938/938 [==============================] - 5s 6ms/step - loss: 0.1311 - val_loss: 0.1623\n",
            "Epoch 58/100\n",
            "938/938 [==============================] - 5s 6ms/step - loss: 0.1309 - val_loss: 0.1633\n",
            "Epoch 59/100\n",
            "938/938 [==============================] - 5s 5ms/step - loss: 0.1309 - val_loss: 0.1631\n",
            "Epoch 60/100\n",
            "938/938 [==============================] - 5s 6ms/step - loss: 0.1308 - val_loss: 0.1631\n",
            "Epoch 61/100\n",
            "938/938 [==============================] - 5s 6ms/step - loss: 0.1307 - val_loss: 0.1626\n",
            "Epoch 62/100\n",
            "938/938 [==============================] - 5s 6ms/step - loss: 0.1306 - val_loss: 0.1636\n",
            "Epoch 63/100\n",
            "938/938 [==============================] - 5s 6ms/step - loss: 0.1305 - val_loss: 0.1625\n",
            "Epoch 64/100\n",
            "938/938 [==============================] - 5s 6ms/step - loss: 0.1304 - val_loss: 0.1632\n",
            "Epoch 65/100\n",
            "938/938 [==============================] - 5s 6ms/step - loss: 0.1303 - val_loss: 0.1630\n",
            "Epoch 66/100\n",
            "938/938 [==============================] - 5s 6ms/step - loss: 0.1303 - val_loss: 0.1642\n",
            "Epoch 67/100\n",
            "938/938 [==============================] - 5s 6ms/step - loss: 0.1302 - val_loss: 0.1635\n",
            "Epoch 68/100\n",
            "938/938 [==============================] - 5s 6ms/step - loss: 0.1301 - val_loss: 0.1644\n",
            "Epoch 69/100\n",
            "938/938 [==============================] - 5s 6ms/step - loss: 0.1301 - val_loss: 0.1637\n",
            "Epoch 70/100\n",
            "938/938 [==============================] - 5s 6ms/step - loss: 0.1300 - val_loss: 0.1639\n",
            "Epoch 71/100\n",
            "938/938 [==============================] - 5s 6ms/step - loss: 0.1299 - val_loss: 0.1642\n",
            "Epoch 72/100\n",
            "938/938 [==============================] - 5s 6ms/step - loss: 0.1298 - val_loss: 0.1635\n",
            "Epoch 73/100\n",
            "938/938 [==============================] - 5s 6ms/step - loss: 0.1297 - val_loss: 0.1644\n",
            "Epoch 74/100\n",
            "938/938 [==============================] - 5s 6ms/step - loss: 0.1297 - val_loss: 0.1650\n",
            "Epoch 75/100\n",
            "938/938 [==============================] - 5s 6ms/step - loss: 0.1297 - val_loss: 0.1650\n",
            "Epoch 76/100\n",
            "938/938 [==============================] - 5s 6ms/step - loss: 0.1295 - val_loss: 0.1661\n",
            "Epoch 77/100\n",
            "938/938 [==============================] - 5s 6ms/step - loss: 0.1295 - val_loss: 0.1659\n",
            "Epoch 78/100\n",
            "191/938 [=====>........................] - ETA: 3s - loss: 0.1280"
          ],
          "name": "stdout"
        }
      ]
    },
    {
      "cell_type": "markdown",
      "metadata": {
        "id": "ymPvzTf3BRcj",
        "colab_type": "text"
      },
      "source": [
        "#Lets look at a few denoised outputs"
      ]
    },
    {
      "cell_type": "code",
      "metadata": {
        "id": "DeS1-K6F2qYm",
        "colab_type": "code",
        "colab": {
          "base_uri": "https://localhost:8080/",
          "height": 248
        },
        "outputId": "6dfb50f4-665f-4dbf-b215-d0e09a9b74b2"
      },
      "source": [
        "decoded_imgs = autoencoder.predict(x_test)\n",
        "\n",
        "n = 10\n",
        "plt.figure(figsize=(20, 4))\n",
        "for i in range(n):\n",
        "    # display original\n",
        "    ax = plt.subplot(2, n, i + 1)\n",
        "    plt.imshow(x_test_noisy[i].reshape(28, 28))\n",
        "    plt.gray()\n",
        "    ax.get_xaxis().set_visible(False)\n",
        "    ax.get_yaxis().set_visible(False)\n",
        "\n",
        "    # display reconstruction\n",
        "    ax = plt.subplot(2, n, i + 1 + n)\n",
        "    plt.imshow(decoded_imgs[i].reshape(28, 28))\n",
        "    plt.gray()\n",
        "    ax.get_xaxis().set_visible(False)\n",
        "    ax.get_yaxis().set_visible(False)\n",
        "plt.show()"
      ],
      "execution_count": null,
      "outputs": [
        {
          "output_type": "display_data",
          "data": {
            "image/png": "[encoded data removed]",
            "text/plain": [
              "<Figure size 1440x288 with 20 Axes>"
            ]
          },
          "metadata": {
            "tags": [],
            "needs_background": "light"
          }
        }
      ]
    }
  ]
}